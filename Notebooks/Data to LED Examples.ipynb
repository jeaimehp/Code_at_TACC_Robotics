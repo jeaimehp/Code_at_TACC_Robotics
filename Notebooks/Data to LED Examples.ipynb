{
 "cells": [
  {
   "cell_type": "markdown",
   "metadata": {},
   "source": [
    "# Data to LED Examples\n",
    "\n",
    "This notebook will adjust LEDS connected to pins 18-21"
   ]
  },
  {
   "cell_type": "code",
   "execution_count": 1,
   "metadata": {},
   "outputs": [
    {
     "name": "stdout",
     "output_type": "stream",
     "text": [
      "Current working directory:\n",
      "/home/pi/Desktop/Notebooks\n",
      "\n",
      "Available files:\n",
      "raspberrypi-20190715-sensorlog.csv  SAMPLE-rpiz_sensor-1-20180719-sensorlog.csv\n",
      "raspberrypi-20190716-sensorlog.csv\n"
     ]
    }
   ],
   "source": [
    "print (\"Current working directory:\")\n",
    "!pwd\n",
    "print (\"\\nAvailable files:\")\n",
    "!ls *.csv"
   ]
  },
  {
   "cell_type": "code",
   "execution_count": 2,
   "metadata": {},
   "outputs": [],
   "source": [
    "# Insert the file name\n",
    "datafile = 'SAMPLE-rpiz_sensor-1-20180719-sensorlog.csv'"
   ]
  },
  {
   "cell_type": "code",
   "execution_count": 3,
   "metadata": {},
   "outputs": [
    {
     "data": {
      "text/html": [
       "<div>\n",
       "<style scoped>\n",
       "    .dataframe tbody tr th:only-of-type {\n",
       "        vertical-align: middle;\n",
       "    }\n",
       "\n",
       "    .dataframe tbody tr th {\n",
       "        vertical-align: top;\n",
       "    }\n",
       "\n",
       "    .dataframe thead th {\n",
       "        text-align: right;\n",
       "    }\n",
       "</style>\n",
       "<table border=\"1\" class=\"dataframe\">\n",
       "  <thead>\n",
       "    <tr style=\"text-align: right;\">\n",
       "      <th></th>\n",
       "      <th>Timestamp</th>\n",
       "      <th>Light</th>\n",
       "      <th>R</th>\n",
       "      <th>G</th>\n",
       "      <th>B</th>\n",
       "      <th>Temperature</th>\n",
       "      <th>Humidity</th>\n",
       "      <th>A0</th>\n",
       "      <th>A1</th>\n",
       "      <th>A2</th>\n",
       "      <th>A3</th>\n",
       "      <th>A4</th>\n",
       "    </tr>\n",
       "  </thead>\n",
       "  <tbody>\n",
       "    <tr>\n",
       "      <th>0</th>\n",
       "      <td>2018-07-19 13:07:02</td>\n",
       "      <td>4350</td>\n",
       "      <td>(91</td>\n",
       "      <td>85</td>\n",
       "      <td>93)</td>\n",
       "      <td>29.958718</td>\n",
       "      <td>98639.521961</td>\n",
       "      <td>146.75</td>\n",
       "      <td>0.372</td>\n",
       "      <td>2.644</td>\n",
       "      <td>0.483</td>\n",
       "      <td>5.105</td>\n",
       "    </tr>\n",
       "    <tr>\n",
       "      <th>1</th>\n",
       "      <td>2018-07-19 13:08:02</td>\n",
       "      <td>4341</td>\n",
       "      <td>(91</td>\n",
       "      <td>85</td>\n",
       "      <td>93)</td>\n",
       "      <td>29.954461</td>\n",
       "      <td>98635.503785</td>\n",
       "      <td>148.28</td>\n",
       "      <td>0.372</td>\n",
       "      <td>2.647</td>\n",
       "      <td>0.369</td>\n",
       "      <td>5.105</td>\n",
       "    </tr>\n",
       "    <tr>\n",
       "      <th>2</th>\n",
       "      <td>2018-07-19 13:09:02</td>\n",
       "      <td>4335</td>\n",
       "      <td>(91</td>\n",
       "      <td>86</td>\n",
       "      <td>93)</td>\n",
       "      <td>29.923448</td>\n",
       "      <td>98633.669034</td>\n",
       "      <td>146.89</td>\n",
       "      <td>0.372</td>\n",
       "      <td>2.647</td>\n",
       "      <td>3.713</td>\n",
       "      <td>5.108</td>\n",
       "    </tr>\n",
       "    <tr>\n",
       "      <th>3</th>\n",
       "      <td>2018-07-19 13:10:02</td>\n",
       "      <td>4342</td>\n",
       "      <td>(91</td>\n",
       "      <td>85</td>\n",
       "      <td>93)</td>\n",
       "      <td>29.980001</td>\n",
       "      <td>98631.545452</td>\n",
       "      <td>146.38</td>\n",
       "      <td>0.372</td>\n",
       "      <td>2.641</td>\n",
       "      <td>0.636</td>\n",
       "      <td>5.099</td>\n",
       "    </tr>\n",
       "    <tr>\n",
       "      <th>4</th>\n",
       "      <td>2018-07-19 13:11:02</td>\n",
       "      <td>4341</td>\n",
       "      <td>(91</td>\n",
       "      <td>85</td>\n",
       "      <td>93)</td>\n",
       "      <td>29.962063</td>\n",
       "      <td>98629.535126</td>\n",
       "      <td>145.96</td>\n",
       "      <td>0.369</td>\n",
       "      <td>2.647</td>\n",
       "      <td>0.504</td>\n",
       "      <td>5.099</td>\n",
       "    </tr>\n",
       "  </tbody>\n",
       "</table>\n",
       "</div>"
      ],
      "text/plain": [
       "              Timestamp  Light     R   G      B  Temperature      Humidity  \\\n",
       "0  2018-07-19 13:07:02    4350   (91  85   93)     29.958718  98639.521961   \n",
       "1  2018-07-19 13:08:02    4341   (91  85   93)     29.954461  98635.503785   \n",
       "2  2018-07-19 13:09:02    4335   (91  86   93)     29.923448  98633.669034   \n",
       "3  2018-07-19 13:10:02    4342   (91  85   93)     29.980001  98631.545452   \n",
       "4  2018-07-19 13:11:02    4341   (91  85   93)     29.962063  98629.535126   \n",
       "\n",
       "       A0     A1     A2     A3     A4  \n",
       "0  146.75  0.372  2.644  0.483  5.105  \n",
       "1  148.28  0.372  2.647  0.369  5.105  \n",
       "2  146.89  0.372  2.647  3.713  5.108  \n",
       "3  146.38  0.372  2.641  0.636  5.099  \n",
       "4  145.96  0.369  2.647  0.504  5.099  "
      ]
     },
     "execution_count": 3,
     "metadata": {},
     "output_type": "execute_result"
    }
   ],
   "source": [
    "# Libraries needed to do the work\n",
    "import pandas as pd # The Pandas library makes it easier to work with data\n",
    "import numpy as np # Numpy adds additional numerical methods (math functions)\n",
    "import matplotlib.pyplot as plt\n",
    "from matplotlib import style\n",
    "\n",
    "style.use('fivethirtyeight')\n",
    "\n",
    "# Read in the csv datafile from above, and save it to the Pandas \"dataframe\" named sensor_data\n",
    "# and add the header names to match the data\n",
    "sensor_data = pd.read_csv(datafile, names=['Timestamp','Light','R','G','B','Temperature','Humidity','A0','A1','A2','A3','A4'])\n",
    "\n",
    "# Print the first 5 lines of the dataframe named sensor_data\n",
    "sensor_data.head()"
   ]
  },
  {
   "cell_type": "code",
   "execution_count": 11,
   "metadata": {},
   "outputs": [],
   "source": [
    "import RPi.GPIO as GPIO   ## Library that allows the GPIO pins to be used\n",
    "import time\n",
    "##Setup the GPIO Pins\n",
    "for pin in range(18,22):\n",
    "    GPIO.setwarnings(False)  ## Removes any warnings if the pin was previously used\n",
    "    GPIO.setmode(GPIO.BCM)   ## Allows the use of the GPIO pin numbers instead of the physical pin numbers\n",
    "    GPIO.setup(pin,GPIO.OUT)\n",
    "    GPIO.output(pin,GPIO.LOW) ## Sets GPIO pin 21 output voltage low/off"
   ]
  },
  {
   "cell_type": "markdown",
   "metadata": {},
   "source": [
    "# Lights adjust based on the Humidity readings\n",
    "\n",
    "More leds will turn on based on the humidity reading found in the data set"
   ]
  },
  {
   "cell_type": "code",
   "execution_count": 5,
   "metadata": {},
   "outputs": [
    {
     "name": "stdout",
     "output_type": "stream",
     "text": [
      "The maximum humidity in the data is:  98639.52196102617\n"
     ]
    }
   ],
   "source": [
    "max_humidity = sensor_data[\"Humidity\"].max()\n",
    "print(\"The maximum humidity in the data is: \", max_humidity)"
   ]
  },
  {
   "cell_type": "code",
   "execution_count": 6,
   "metadata": {},
   "outputs": [
    {
     "data": {
      "text/plain": [
       "21"
      ]
     },
     "execution_count": 6,
     "metadata": {},
     "output_type": "execute_result"
    }
   ],
   "source": [
    "# Using NumPY Interpolation the below interpolates the sensors data into a given range which in\n",
    "# this case are the number of LEDS connected\n",
    "# np.interp(sensorvalue, [min of all sensorvalues, max of all sensorvalues] , [first led pin, last led pin])\n",
    "int(np.interp(max_humidity, [sensor_data[\"Humidity\"].min(),sensor_data[\"Humidity\"].max()], [18,21]))"
   ]
  },
  {
   "cell_type": "code",
   "execution_count": 14,
   "metadata": {},
   "outputs": [],
   "source": [
    "## Cycle through all the values in the data set under Humidity\n",
    "for sensorvalue in sensor_data[\"Humidity\"]:\n",
    "    #Interpolate the current value\n",
    "    pin = int(np.interp(sensorvalue, [sensor_data[\"Humidity\"].min(),sensor_data[\"Humidity\"].max()], [18,21]))\n",
    "    #Turn on the number of pins up to the interpolated value\n",
    "    for pins in range(18, 22):\n",
    "        GPIO.output(pins,GPIO.HIGH)\n",
    "    time.sleep(2)\n",
    "    #Turn all the pins off before checking the next value\n",
    "    for pin_off in range(18,22):\n",
    "        GPIO.output(pins,GPIO.LOW)\n",
    "    time.sleep(1)\n",
    "# Turn all pins off\n",
    "for pin_off in range(18,22):\n",
    "        GPIO.output(pin_off,GPIO.LOW)"
   ]
  },
  {
   "cell_type": "markdown",
   "metadata": {},
   "source": [
    "# Stop Light Colors from Data\n",
    "\n",
    "Connect:\n",
    "* Red LED to pin 18\n",
    "* Yellow LED to pin 19\n",
    "* Green LED to pin 20"
   ]
  },
  {
   "cell_type": "code",
   "execution_count": 16,
   "metadata": {},
   "outputs": [
    {
     "name": "stdout",
     "output_type": "stream",
     "text": [
      "The maximum value for A0 in the data is:  148.28\n",
      "20\n",
      "The min value for A0 in the data is:  145.96\n",
      "18\n",
      "The mean value for A0 in the data is:  146.852\n",
      "18\n"
     ]
    }
   ],
   "source": [
    "#Using Analog channel 0 (A0) for this example\n",
    "# np.interp(sensorvalue, [min of all sensorvalues, max of all sensorvalues] , [first led pin, last led pin])\n",
    "max_a0 = sensor_data[\"A0\"].max()\n",
    "print(\"The maximum value for A0 in the data is: \", max_a0)\n",
    "print(int(np.interp(max_a0, [sensor_data[\"A0\"].min(),sensor_data[\"A0\"].max()], [18,20])))\n",
    "min_a0 = sensor_data[\"A0\"].min()\n",
    "print(\"The min value for A0 in the data is: \", min_a0)\n",
    "print(int(np.interp(min_a0, [sensor_data[\"A0\"].min(),sensor_data[\"A0\"].max()], [18,20])))\n",
    "mean_a0 = sensor_data[\"A0\"].mean()\n",
    "print(\"The mean value for A0 in the data is: \", mean_a0)\n",
    "print(int(np.interp(mean_a0, [sensor_data[\"A0\"].min(),sensor_data[\"A0\"].max()], [18,20])))"
   ]
  },
  {
   "cell_type": "markdown",
   "metadata": {},
   "source": [
    "#### Note: Analog sensors generally have higher readings when nothing is detected and lower reading when something is detected. "
   ]
  },
  {
   "cell_type": "code",
   "execution_count": 17,
   "metadata": {},
   "outputs": [],
   "source": [
    "# An easily changeable value to pick which sensor to use\n",
    "sensor_value_name = \"A0\"\n",
    "pins_to_use = [18,20]\n",
    "# Cycle through all the values in the data set under Humidity\n",
    "for sensorvalue in sensor_data[sensor_value_name]:\n",
    "    #Interpolate the current value\n",
    "    pin = int(np.interp(sensorvalue, [sensor_data[sensor_value_name].min(),sensor_data[sensor_value_name].max()], pins_to_use))\n",
    "    GPIO.output(pin,GPIO.HIGH)\n",
    "    time.sleep(2)\n",
    "    #Turn all the pins off before checking the next value\n",
    "    GPIO.output(pin,GPIO.LOW)\n",
    "    time.sleep(1)\n"
   ]
  },
  {
   "cell_type": "markdown",
   "metadata": {},
   "source": [
    "# Turn all LEDS (pins) Off"
   ]
  },
  {
   "cell_type": "code",
   "execution_count": 18,
   "metadata": {},
   "outputs": [],
   "source": [
    "for pin in range (18,22):\n",
    "     GPIO.output(pin,GPIO.LOW)"
   ]
  },
  {
   "cell_type": "code",
   "execution_count": null,
   "metadata": {},
   "outputs": [],
   "source": []
  }
 ],
 "metadata": {
  "kernelspec": {
   "display_name": "Python 3",
   "language": "python",
   "name": "python3"
  },
  "language_info": {
   "codemirror_mode": {
    "name": "ipython",
    "version": 3
   },
   "file_extension": ".py",
   "mimetype": "text/x-python",
   "name": "python",
   "nbconvert_exporter": "python",
   "pygments_lexer": "ipython3",
   "version": "3.7.3"
  }
 },
 "nbformat": 4,
 "nbformat_minor": 2
}
