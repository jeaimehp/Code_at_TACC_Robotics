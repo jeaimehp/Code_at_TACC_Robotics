{
 "cells": [
  {
   "cell_type": "markdown",
   "metadata": {},
   "source": [
    "# Example Light Codes\n",
    "\n",
    "This notebook provides examples of ways lights can be used in projects."
   ]
  },
  {
   "cell_type": "markdown",
   "metadata": {},
   "source": [
    "# Blink LED on pin 21\n",
    "\n",
    "Connect an the positive lead of an LED to pin 21 and the negative to ground"
   ]
  },
  {
   "cell_type": "code",
   "execution_count": 7,
   "metadata": {},
   "outputs": [
    {
     "name": "stdout",
     "output_type": "stream",
     "text": [
      "OK\n"
     ]
    }
   ],
   "source": [
    "## Enter the GPIO pin number the positive jumper wire is connected to on the Raspberry PI\n",
    "## Example: gpio_pin = 16\n",
    "gpio_pin = 21"
   ]
  },
  {
   "cell_type": "code",
   "execution_count": 16,
   "metadata": {},
   "outputs": [],
   "source": [
    "## Needed modules\n",
    "import RPi.GPIO as GPIO   ## Library that allows the GPIO pins to be used\n",
    "import time\n",
    "##Setup the GPIO Pins\n",
    "GPIO.setwarnings(False)  ## Removes any warnings if the pin was previously used\n",
    "GPIO.setmode(GPIO.BCM)   ## Allows the use of the GPIO pin numbers instead of the physical pin numbers\n",
    "GPIO.setup(gpio_pin,GPIO.OUT)  ## Sets GPIO pin 21 into ouput mode (goes-ousta)\n",
    "GPIO.setwarnings(False)  ## Removes any warnings if any arose from changing GPIO pin 21's mode\n",
    "GPIO.output(gpio_pin,GPIO.LOW) ## Sets GPIO pin 21 output voltage low/off"
   ]
  },
  {
   "cell_type": "code",
   "execution_count": 6,
   "metadata": {},
   "outputs": [],
   "source": [
    "GPIO.output(gpio_pin,GPIO.HIGH) ## Run this code to turn the LED on"
   ]
  },
  {
   "cell_type": "markdown",
   "metadata": {},
   "source": [
    "# Setup multiple pins"
   ]
  },
  {
   "cell_type": "code",
   "execution_count": 41,
   "metadata": {},
   "outputs": [],
   "source": [
    "##Setup the GPIO Pins\n",
    "for pin in range(18,26):\n",
    "    GPIO.setwarnings(False)  ## Removes any warnings if the pin was previously used\n",
    "    GPIO.setmode(GPIO.BCM)   ## Allows the use of the GPIO pin numbers instead of the physical pin numbers\n",
    "    GPIO.setup(pin,GPIO.OUT)\n",
    "    GPIO.output(pin,GPIO.LOW) ## Sets GPIO pin 21 output voltage low/off"
   ]
  },
  {
   "cell_type": "markdown",
   "metadata": {},
   "source": [
    "# Stop Light Simulation\n",
    "\n",
    "Connect:\n",
    "* Red LED to pin 18\n",
    "* Yellow LED to pin 19\n",
    "* Green LED to pin 20"
   ]
  },
  {
   "cell_type": "code",
   "execution_count": 42,
   "metadata": {},
   "outputs": [],
   "source": [
    "green_pin = 20\n",
    "yellow_pin = 19\n",
    "red_pin = 18\n",
    "\n",
    "for pin in {red_pin,yellow_pin,green_pin}:\n",
    "    GPIO.output(pin,GPIO.HIGH)\n",
    "    time.sleep(1)"
   ]
  },
  {
   "cell_type": "code",
   "execution_count": 45,
   "metadata": {},
   "outputs": [],
   "source": [
    "\n",
    "for pin in {20,19,18}:\n",
    "    GPIO.output(pin,GPIO.HIGH)\n",
    "    time.sleep(1)"
   ]
  },
  {
   "cell_type": "markdown",
   "metadata": {},
   "source": [
    "# Turn off all LEDS"
   ]
  },
  {
   "cell_type": "code",
   "execution_count": 54,
   "metadata": {},
   "outputs": [],
   "source": [
    "for pin in range(18,26):\n",
    "    GPIO.output(pin,GPIO.LOW)"
   ]
  },
  {
   "cell_type": "markdown",
   "metadata": {},
   "source": [
    "# Turn on all LEDS\n",
    "\n",
    "### WARNING: There are power limitations to how many LEDS you can power at once"
   ]
  },
  {
   "cell_type": "code",
   "execution_count": 53,
   "metadata": {},
   "outputs": [],
   "source": [
    "for pin in range(18,26):\n",
    "    GPIO.output(pin,GPIO.HIGH)"
   ]
  },
  {
   "cell_type": "markdown",
   "metadata": {},
   "source": [
    "# Flow example with 4 leds\n",
    "\n",
    "Connect the positive lead of four leds to pins 22-26 "
   ]
  },
  {
   "cell_type": "code",
   "execution_count": 56,
   "metadata": {},
   "outputs": [],
   "source": [
    "#while (1):\n",
    "for i in range(5):\n",
    "    for pin in range(22,26): # Using pins 22-26\n",
    "        GPIO.output(pin,GPIO.HIGH)\n",
    "        time.sleep(1)\n",
    "        GPIO.output(pin,GPIO.LOW)"
   ]
  },
  {
   "cell_type": "code",
   "execution_count": null,
   "metadata": {},
   "outputs": [],
   "source": []
  }
 ],
 "metadata": {
  "kernelspec": {
   "display_name": "Python 3",
   "language": "python",
   "name": "python3"
  },
  "language_info": {
   "codemirror_mode": {
    "name": "ipython",
    "version": 3
   },
   "file_extension": ".py",
   "mimetype": "text/x-python",
   "name": "python",
   "nbconvert_exporter": "python",
   "pygments_lexer": "ipython3",
   "version": "3.7.3"
  }
 },
 "nbformat": 4,
 "nbformat_minor": 2
}
