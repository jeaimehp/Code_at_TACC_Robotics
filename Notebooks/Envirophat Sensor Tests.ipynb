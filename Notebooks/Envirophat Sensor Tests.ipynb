{
 "cells": [
  {
   "cell_type": "markdown",
   "metadata": {},
   "source": [
    "# EnviroPhat Testing\n",
    "<br>\n",
    "Library install ref: https://learn.pimoroni.com/tutorial/sandyj/getting-started-with-enviro-phat\n",
    "\n",
    "Install the Enviro pHat Libraries\n",
    "\n",
    "curl https://get.pimoroni.com/envirophat | bash"
   ]
  },
  {
   "cell_type": "markdown",
   "metadata": {},
   "source": [
    "## Leds on board test"
   ]
  },
  {
   "cell_type": "code",
   "execution_count": 6,
   "metadata": {},
   "outputs": [
    {
     "data": {
      "text/plain": [
       "True"
      ]
     },
     "execution_count": 6,
     "metadata": {},
     "output_type": "execute_result"
    }
   ],
   "source": [
    "from envirophat import leds\n",
    "leds.on()"
   ]
  },
  {
   "cell_type": "code",
   "execution_count": 7,
   "metadata": {},
   "outputs": [],
   "source": [
    "leds.off()\n"
   ]
  },
  {
   "cell_type": "markdown",
   "metadata": {},
   "source": [
    "## Light sensors test"
   ]
  },
  {
   "cell_type": "code",
   "execution_count": 4,
   "metadata": {},
   "outputs": [
    {
     "name": "stdout",
     "output_type": "stream",
     "text": [
      "4183\n"
     ]
    }
   ],
   "source": [
    "from envirophat import light\n",
    "print (light.light())"
   ]
  },
  {
   "cell_type": "code",
   "execution_count": 4,
   "metadata": {},
   "outputs": [
    {
     "name": "stdout",
     "output_type": "stream",
     "text": [
      "(161, 140, 126)\n"
     ]
    }
   ],
   "source": [
    "print (light.rgb())\n"
   ]
  },
  {
   "cell_type": "markdown",
   "metadata": {},
   "source": [
    "## Weather sensors (Temperature and Pressure) Test"
   ]
  },
  {
   "cell_type": "code",
   "execution_count": 8,
   "metadata": {},
   "outputs": [
    {
     "name": "stdout",
     "output_type": "stream",
     "text": [
      "36.45667404365961\n"
     ]
    }
   ],
   "source": [
    "from envirophat import weather\n",
    "print (weather.temperature())"
   ]
  },
  {
   "cell_type": "code",
   "execution_count": 6,
   "metadata": {},
   "outputs": [
    {
     "name": "stdout",
     "output_type": "stream",
     "text": [
      "98274.0257783064\n"
     ]
    }
   ],
   "source": [
    "print(weather.pressure(unit='kPa'))"
   ]
  },
  {
   "cell_type": "markdown",
   "metadata": {},
   "source": [
    "## Compass Test"
   ]
  },
  {
   "cell_type": "code",
   "execution_count": 7,
   "metadata": {},
   "outputs": [
    {
     "name": "stdout",
     "output_type": "stream",
     "text": [
      "205.03\n"
     ]
    }
   ],
   "source": [
    "from envirophat import motion\n",
    "print(motion.heading())"
   ]
  },
  {
   "cell_type": "markdown",
   "metadata": {},
   "source": [
    "## Analog Pin Tests\n",
    "\n",
    "Connect the Microphone to Analog 0:\n",
    "\n",
    "Sensor  -->  Enviro pHat\n",
    "------------------------------\n",
    "* VCC --> 5V \n",
    "* GND --> GND\n",
    "* OUT --> ANALOG-0"
   ]
  },
  {
   "cell_type": "code",
   "execution_count": 4,
   "metadata": {},
   "outputs": [
    {
     "name": "stdout",
     "output_type": "stream",
     "text": [
      "1.978\n",
      "1.852\n",
      "4.73\n",
      "1.735\n",
      "3.149\n",
      "2.155\n",
      "1.78\n",
      "2.578\n",
      "1.531\n",
      "2.497\n"
     ]
    }
   ],
   "source": [
    "from envirophat import analog\n",
    "import time\n",
    "\n",
    "#Analog port to read from\n",
    "analog_port = 0\n",
    "\n",
    "#Number of times to read it\n",
    "times_to_read = 10\n",
    "\n",
    "for count in range(times_to_read): ## Read the \"analog_port\" specified the number of \"times_to_read\" \n",
    "    print (analog.read(analog_port))\n",
    "    time.sleep(1)"
   ]
  },
  {
   "cell_type": "markdown",
   "metadata": {},
   "source": [
    "## Code Loop Test using temp"
   ]
  },
  {
   "cell_type": "code",
   "execution_count": 9,
   "metadata": {},
   "outputs": [
    {
     "name": "stdout",
     "output_type": "stream",
     "text": [
      "The temperature is 36.38355656207941\n",
      "The temperature is 36.37079990151271\n",
      "The temperature is 36.34684227585713\n",
      "The temperature is 36.32692944927294\n",
      "The temperature is 36.312617108041835\n",
      "The temperature is 36.30266069816944\n",
      "The temperature is 36.298615906991316\n",
      "The temperature is 36.29830476921634\n",
      "The temperature is 36.30359411154552\n",
      "The temperature is 36.31323938369751\n",
      "The temperature is 36.32195124335449\n",
      "The temperature is 36.32568489776604\n",
      "The temperature is 36.32661831139451\n",
      "The temperature is 36.330351966010696\n",
      "The temperature is 36.3371969998989\n",
      "The temperature is 36.346219999955885\n",
      "The temperature is 36.35648755290788\n",
      "The temperature is 36.36302145088557\n",
      "The temperature is 36.37888949091869\n",
      "The temperature is 36.3969355008245\n",
      "\n",
      "The collected temperatures array is \n",
      " [36.38355656207941, 36.37079990151271, 36.34684227585713, 36.32692944927294, 36.312617108041835, 36.30266069816944, 36.298615906991316, 36.29830476921634, 36.30359411154552, 36.31323938369751, 36.32195124335449, 36.32568489776604, 36.32661831139451, 36.330351966010696, 36.3371969998989, 36.346219999955885, 36.35648755290788, 36.36302145088557, 36.37888949091869, 36.3969355008245]\n"
     ]
    }
   ],
   "source": [
    "import time\n",
    "#temp is an array that will hold all the readings\n",
    "temp = []\n",
    "for x in range(20):\n",
    "    leds.on() ## Blinks LEDs to show when collecting data\n",
    "    temp.insert(x, weather.temperature())\n",
    "    print (\"The temperature is\",temp[x])\n",
    "    leds.off()\n",
    "    time.sleep(1)\n",
    "print (\"\\nThe collected temperatures array is \\n\", temp)\n",
    "    "
   ]
  },
  {
   "cell_type": "markdown",
   "metadata": {},
   "source": [
    "## Graph of Previously collected data\n",
    "\n",
    "{Note: Had to reinstall matlibplot using the line \"sudo pip3 install matplotlib --ignore-installed\" and installed \"sudo apt-get install libatlas-base-dev\" to get Matplotlib working}"
   ]
  },
  {
   "cell_type": "code",
   "execution_count": 10,
   "metadata": {},
   "outputs": [
    {
     "data": {
      "image/png": "[encoded data removed]",
      "text/plain": [
       "<Figure size 432x288 with 1 Axes>"
      ]
     },
     "metadata": {
      "needs_background": "light"
     },
     "output_type": "display_data"
    }
   ],
   "source": [
    "import matplotlib.pyplot as plt\n",
    "plt.plot(temp)\n",
    "plt.show()"
   ]
  },
  {
   "cell_type": "code",
   "execution_count": null,
   "metadata": {},
   "outputs": [],
   "source": []
  }
 ],
 "metadata": {
  "kernelspec": {
   "display_name": "Python 3",
   "language": "python",
   "name": "python3"
  },
  "language_info": {
   "codemirror_mode": {
    "name": "ipython",
    "version": 3
   },
   "file_extension": ".py",
   "mimetype": "text/x-python",
   "name": "python",
   "nbconvert_exporter": "python",
   "pygments_lexer": "ipython3",
   "version": "3.7.3"
  }
 },
 "nbformat": 4,
 "nbformat_minor": 2
}
